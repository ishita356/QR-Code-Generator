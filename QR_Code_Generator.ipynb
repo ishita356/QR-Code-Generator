{
  "nbformat": 4,
  "nbformat_minor": 0,
  "metadata": {
    "colab": {
      "name": "QR Code Generator.ipynb",
      "provenance": [],
      "collapsed_sections": [],
      "authorship_tag": "ABX9TyOm1VT8rqrLVj2JJHikUJFk",
      "include_colab_link": true
    },
    "kernelspec": {
      "name": "python3",
      "display_name": "Python 3"
    },
    "language_info": {
      "name": "python"
    }
  },
  "cells": [
    {
      "cell_type": "markdown",
      "metadata": {
        "id": "view-in-github",
        "colab_type": "text"
      },
      "source": [
        "<a href=\"https://colab.research.google.com/github/ishita356/QR-Code-Generator/blob/main/QR_Code_Generator.ipynb\" target=\"_parent\"><img src=\"https://colab.research.google.com/assets/colab-badge.svg\" alt=\"Open In Colab\"/></a>"
      ]
    },
    {
      "cell_type": "markdown",
      "source": [
        "**Install the Qrcode Package**"
      ],
      "metadata": {
        "id": "Ak21vKgMKgf-"
      }
    },
    {
      "cell_type": "code",
      "execution_count": 10,
      "metadata": {
        "colab": {
          "base_uri": "https://localhost:8080/"
        },
        "id": "sLRv6kY6CcJJ",
        "outputId": "48dab347-4098-4da7-a2b2-244331dc275c"
      },
      "outputs": [
        {
          "output_type": "stream",
          "name": "stdout",
          "text": [
            "Looking in indexes: https://pypi.org/simple, https://us-python.pkg.dev/colab-wheels/public/simple/\n",
            "Requirement already satisfied: qrcode in /usr/local/lib/python3.7/dist-packages (7.3.1)\n"
          ]
        }
      ],
      "source": [
        "!pip install qrcode"
      ]
    },
    {
      "cell_type": "markdown",
      "source": [
        "**Importing The Package**"
      ],
      "metadata": {
        "id": "Cpnk4c-qNzqY"
      }
    },
    {
      "cell_type": "code",
      "source": [
        "import qrcode"
      ],
      "metadata": {
        "id": "7ap3xOoSC8ft"
      },
      "execution_count": 11,
      "outputs": []
    },
    {
      "cell_type": "markdown",
      "source": [
        "**Adding Features To  Qrcode**"
      ],
      "metadata": {
        "id": "zGkHS98DLhOf"
      }
    },
    {
      "cell_type": "code",
      "source": [
        "features=qrcode.QRCode(version=1,box_size=10,border=3)"
      ],
      "metadata": {
        "id": "P22_Iz2mJwpl"
      },
      "execution_count": 12,
      "outputs": []
    },
    {
      "cell_type": "markdown",
      "source": [
        "**Add Channel/Website Link which You Want To Appear While Scanning The Qrcode**"
      ],
      "metadata": {
        "id": "1Kba_EAWN55e"
      }
    },
    {
      "cell_type": "code",
      "source": [
        "features.add_data('https://youtube.com/channel/UCt83dcSlkShLkGmeWuOrmlA')"
      ],
      "metadata": {
        "id": "e5N5Cq8-KHPb"
      },
      "execution_count": 13,
      "outputs": []
    },
    {
      "cell_type": "code",
      "source": [
        "features.make(fit=True)"
      ],
      "metadata": {
        "id": "5y9ezyNXLBEb"
      },
      "execution_count": 14,
      "outputs": []
    },
    {
      "cell_type": "markdown",
      "source": [
        " **Adding Colours In Qr Code**\n"
      ],
      "metadata": {
        "id": "dBM83F_GH3hZ"
      }
    },
    {
      "cell_type": "code",
      "source": [
        "img=features.make_image(fill_color='black',back_color='White')"
      ],
      "metadata": {
        "id": "AIsEsfa7F9fE"
      },
      "execution_count": 15,
      "outputs": []
    },
    {
      "cell_type": "markdown",
      "source": [
        "**Saving Image**"
      ],
      "metadata": {
        "id": "8t730BKXHrOT"
      }
    },
    {
      "cell_type": "code",
      "source": [
        "img.save('myimage.png')"
      ],
      "metadata": {
        "id": "x-KowqkWGz_h"
      },
      "execution_count": 16,
      "outputs": []
    }
  ]
}